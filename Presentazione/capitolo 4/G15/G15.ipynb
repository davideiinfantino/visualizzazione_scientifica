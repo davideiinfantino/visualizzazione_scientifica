{
 "cells": [
  {
   "cell_type": "markdown",
   "id": "a801e38f",
   "metadata": {},
   "source": [
    "# G15 - Finestra Cinema-Streaming (2000-2024)\n",
    "\n",
    "## L'Erosione delle Window di Distribuzione\n",
    "\n",
    "Questo grafico mostra l'evoluzione della finestra temporale tra uscita cinematografica e disponibilità streaming, documentando uno dei cambiamenti più significativi nell'industria dell'intrattenimento.\n",
    "\n",
    "### Obiettivi:\n",
    "- Tracciare la riduzione delle finestre distributive\n",
    "- Analizzare l'impatto su cinema e streaming\n",
    "- Comprendere le pressioni economiche del settore\n",
    "- Identificare trend futuri nella distribuzione"
   ]
  },
  {
   "cell_type": "code",
   "execution_count": null,
   "id": "587191ee",
   "metadata": {},
   "outputs": [],
   "source": [
    "# Import e analisi finestre cinema-streaming\n",
    "import pandas as pd\n",
    "import matplotlib.pyplot as plt\n",
    "\n",
    "csv_path = \"cinema_to_streaming_window_2000_2024.csv\"\n",
    "df = pd.read_csv(csv_path)\n",
    "\n",
    "df[\"Year\"] = pd.to_numeric(df[\"Year\"], errors=\"coerce\")\n",
    "df[\"WindowDays\"] = pd.to_numeric(df[\"WindowDays\"], errors=\"coerce\")\n",
    "df = df.dropna().sort_values(\"Year\")\n",
    "\n",
    "print(f\"Riduzione finestra: {df['WindowDays'].iloc[0]} → {df['WindowDays'].iloc[-1]} giorni\")\n",
    "print(f\"Contrazione: {((df['WindowDays'].iloc[-1]/df['WindowDays'].iloc[0])-1)*100:.1f}%\")\n",
    "\n",
    "# Creazione grafico\n",
    "plt.figure(figsize=(9,6), facecolor='white')\n",
    "ax = plt.gca()\n",
    "ax.set_facecolor('white')\n",
    "\n",
    "plt.plot(df[\"Year\"], df[\"WindowDays\"], marker=\"o\", linestyle=\"-\", \n",
    "         color=\"#cc0000\", linewidth=2, markersize=6, \n",
    "         label=\"Finestra Cinema-Streaming (giorni)\")\n",
    "plt.fill_between(df[\"Year\"], df[\"WindowDays\"], color=\"#cc0000\", alpha=0.3)\n",
    "\n",
    "plt.xlabel(\"Anno\", fontsize=12)\n",
    "plt.ylabel(\"Giorni\", fontsize=12)\n",
    "plt.title(\"Evoluzione Finestra Cinema-Streaming (2000-2024)\", fontsize=14, fontweight='bold')\n",
    "plt.grid(True, alpha=0.3)\n",
    "plt.legend()\n",
    "\n",
    "ax.spines['top'].set_visible(False)\n",
    "ax.spines['right'].set_visible(False)\n",
    "plt.subplots_adjust(left=0.11, bottom=0.083, right=0.617, top=0.61)\n",
    "\n",
    "plt.savefig(\"cinema_streaming_window_chart.png\", dpi=300, bbox_inches='tight', facecolor='white')\n",
    "plt.show()"
   ]
  },
  {
   "cell_type": "markdown",
   "id": "4657454a",
   "metadata": {},
   "source": [
    "## Analisi Finestre Distributive\n",
    "\n",
    "### Evoluzione Storica:\n",
    "- **2000s**: Finestre rigide 120+ giorni\n",
    "- **2010s**: Pressioni competitive iniziali\n",
    "- **Pandemia**: Accelerazione drammatica\n",
    "- **2024**: Day-and-date releases normalizzati\n",
    "\n",
    "### Impatti Economici:\n",
    "- **Cinema**: Perdita esclusività premium\n",
    "- **Streaming**: Accesso rapido a contenuti freschi\n",
    "- **Studios**: Ottimizzazione revenue multi-platform\n",
    "- **Consumatori**: Maggiore scelta e flessibilità\n",
    "\n",
    "### Trend Futuro:\n",
    "- Finestre sempre più corte\n",
    "- Modelli di pricing dinamici\n",
    "- Esperienze premium in sala\n",
    "- Integrazione piattaforme multiple"
   ]
  }
 ],
 "metadata": {
  "language_info": {
   "name": "python"
  }
 },
 "nbformat": 4,
 "nbformat_minor": 5
}
