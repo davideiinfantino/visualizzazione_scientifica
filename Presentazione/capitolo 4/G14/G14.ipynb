{
 "cells": [
  {
   "cell_type": "markdown",
   "id": "21a22fb9",
   "metadata": {},
   "source": [
    "# G14 - Valutazioni Mediane IMDb (2000-2024)\n",
    "\n",
    "## L'Evoluzione della Qualità Percepita nell'Intrattenimento\n",
    "\n",
    "Questo grafico mostra l'evoluzione delle valutazioni mediane IMDb dal 2000 al 2024, offrendo insight sulla percezione qualitativa dei contenuti nell'era pre e post-streaming.\n",
    "\n",
    "### Obiettivi:\n",
    "- Tracciare l'evoluzione della qualità percepita\n",
    "- Confrontare era pre-streaming vs streaming\n",
    "- Analizzare l'impatto della democratizzazione produttiva\n",
    "- Comprendere bias e trend nelle valutazioni pubbliche"
   ]
  },
  {
   "cell_type": "code",
   "execution_count": null,
   "id": "03a3f685",
   "metadata": {},
   "outputs": [],
   "source": [
    "# Import delle librerie necessarie\n",
    "import pandas as pd\n",
    "import matplotlib.pyplot as plt\n",
    "import os\n",
    "\n",
    "print(\"Librerie importate con successo!\")"
   ]
  },
  {
   "cell_type": "code",
   "execution_count": null,
   "id": "16ae3795",
   "metadata": {},
   "outputs": [],
   "source": [
    "# Caricamento e analisi dati IMDb\n",
    "csv_path = \"imdb_ratings_median_2000_2024.csv\"\n",
    "df = pd.read_csv(csv_path)\n",
    "\n",
    "# Preparazione dati\n",
    "df[\"Year\"] = pd.to_numeric(df[\"Year\"], errors=\"coerce\")\n",
    "df[\"MedianRatingIMDb\"] = pd.to_numeric(df[\"MedianRatingIMDb\"], errors=\"coerce\")\n",
    "df = df.dropna().sort_values(\"Year\")\n",
    "\n",
    "print(\"Analisi valutazioni IMDb (2000-2024):\")\n",
    "print(f\"Range rating: {df['MedianRatingIMDb'].min():.1f} - {df['MedianRatingIMDb'].max():.1f}\")\n",
    "print(f\"Trend generale: {(df['MedianRatingIMDb'].iloc[-1] - df['MedianRatingIMDb'].iloc[0]):.2f} punti\")\n",
    "\n",
    "# Creazione grafico\n",
    "plt.figure(figsize=(9,6), facecolor='white')\n",
    "ax = plt.gca()\n",
    "ax.set_facecolor('white')\n",
    "\n",
    "bars = plt.bar(df[\"Year\"], df[\"MedianRatingIMDb\"], color=\"#cc0000\", alpha=0.7, \n",
    "               edgecolor=\"#8b0000\", linewidth=1, label=\"Valutazione Mediana IMDb\")\n",
    "\n",
    "plt.xlabel(\"Anno\", fontsize=12)\n",
    "plt.ylabel(\"Valutazione Mediana IMDb\", fontsize=12)\n",
    "plt.title(\"Evoluzione Valutazioni Mediane IMDb (2000-2024)\", fontsize=14, fontweight='bold')\n",
    "plt.grid(True, alpha=0.3)\n",
    "plt.legend()\n",
    "\n",
    "ax.spines['top'].set_visible(False)\n",
    "ax.spines['right'].set_visible(False)\n",
    "plt.subplots_adjust(left=0.11, bottom=0.083, right=0.617, top=0.61)\n",
    "\n",
    "plt.savefig(\"imdb_ratings_chart.png\", dpi=300, bbox_inches='tight', facecolor='white')\n",
    "plt.show()"
   ]
  },
  {
   "cell_type": "markdown",
   "id": "60bb307a",
   "metadata": {},
   "source": [
    "## Analisi Qualità Percepita\n",
    "\n",
    "### Fattori di Evoluzione:\n",
    "- **Era Pre-Streaming**: Controllo qualitativo rigido studios\n",
    "- **Era Streaming**: Democratizzazione produzione e varietà contenuti\n",
    "- **Bias Valutativi**: Nostalgia vs contenuti contemporanei\n",
    "- **Volume Effect**: Maggior produzione = maggior varianza qualitativa\n",
    "\n",
    "### Implicazioni:\n",
    "- Diversificazione audience e gusti\n",
    "- Frammentazione criteri qualitativi\n",
    "- Globalizzazione standard valutativi\n",
    "- Algoritmi vs critica tradizionale"
   ]
  }
 ],
 "metadata": {
  "language_info": {
   "name": "python"
  }
 },
 "nbformat": 4,
 "nbformat_minor": 5
}
