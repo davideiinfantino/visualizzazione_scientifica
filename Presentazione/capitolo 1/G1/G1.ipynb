{
 "cells": [
  {
   "cell_type": "markdown",
   "id": "860c05f0",
   "metadata": {},
   "source": [
    "# G1 - Box Office Mondiale (2000-2010)\n",
    "\n",
    "## Contesto pre-streaming\n",
    "\n",
    "Questo grafico mostra l'evoluzione degli incassi del box office mondiale dal 2000 al 2010, periodo che rappresenta il contesto cinematografico prima dell'avvento massiccio dello streaming.\n",
    "\n",
    "### Obiettivi:\n",
    "- Visualizzare la crescita costante del mercato cinematografico pre-streaming\n",
    "- Stabilire il baseline per confronti futuri\n",
    "- Evidenziare la stabilità del modello di business tradizionale"
   ]
  },
  {
   "cell_type": "code",
   "execution_count": null,
   "id": "757e68ea",
   "metadata": {},
   "outputs": [],
   "source": [
    "# Import delle librerie necessarie\n",
    "import pandas as pd\n",
    "import matplotlib.pyplot as plt\n",
    "import os\n",
    "\n",
    "print(\"Librerie importate con successo!\")"
   ]
  },
  {
   "cell_type": "code",
   "execution_count": null,
   "id": "2ca6fc06",
   "metadata": {},
   "outputs": [],
   "source": [
    "# Caricamento e preparazione dei dati\n",
    "csv_path = \"worldwide_box_office.csv\"\n",
    "df = pd.read_csv(csv_path)\n",
    "\n",
    "print(\"Dataset caricato:\")\n",
    "print(f\"Forma del dataset: {df.shape}\")\n",
    "print(\"\\nPrime righe:\")\n",
    "df.head()"
   ]
  },
  {
   "cell_type": "code",
   "execution_count": null,
   "id": "2dd0f5e1",
   "metadata": {},
   "outputs": [],
   "source": [
    "# Conversione dei campi numerici\n",
    "df[\"Year\"] = pd.to_numeric(df[\"Year\"], errors=\"coerce\")\n",
    "df[\"TotalGross\"] = pd.to_numeric(df[\"TotalGross\"], errors=\"coerce\")\n",
    "\n",
    "# Filtra i dati dal 2000 al 2010 e rimuove eventuali valori NaN\n",
    "df = df[(df[\"Year\"] >= 2000) & (df[\"Year\"] <= 2010)].dropna()\n",
    "\n",
    "# Ordina per anno\n",
    "df = df.sort_values(\"Year\")\n",
    "\n",
    "# Converte gli incassi in miliardi di $\n",
    "df[\"TotalGross_Billion\"] = df[\"TotalGross\"] / 1e9\n",
    "\n",
    "print(\"Dati preparati:\")\n",
    "print(f\"Periodo: {df['Year'].min()} - {df['Year'].max()}\")\n",
    "print(f\"Range incassi: {df['TotalGross_Billion'].min():.1f}B - {df['TotalGross_Billion'].max():.1f}B $\")\n",
    "df[['Year', 'TotalGross_Billion']]"
   ]
  },
  {
   "cell_type": "code",
   "execution_count": null,
   "id": "8351b86f",
   "metadata": {},
   "outputs": [],
   "source": [
    "# Creazione del grafico\n",
    "plt.figure(figsize=(9,6), facecolor='white')\n",
    "ax = plt.gca()\n",
    "ax.set_facecolor('white')\n",
    "\n",
    "# Linea principale con etichetta per la legenda\n",
    "plt.plot(df[\"Year\"], df[\"TotalGross_Billion\"], marker=\"o\", linestyle=\"-\", \n",
    "         color=\"#cc0000\", linewidth=2, markersize=6, label=\"Incassi Totali\")\n",
    "\n",
    "# Colora l'area sotto la curva\n",
    "plt.fill_between(df[\"Year\"], df[\"TotalGross_Billion\"], color=\"#cc0000\", alpha=0.3)\n",
    "\n",
    "# Configurazione assi e griglia\n",
    "plt.xlabel(\"Anno\", fontsize=12)\n",
    "plt.ylabel(\"Incassi totali (Miliardi $)\", fontsize=12)\n",
    "plt.grid(True, alpha=0.3)\n",
    "\n",
    "print(\"Grafico base creato!\")"
   ]
  },
  {
   "cell_type": "code",
   "execution_count": null,
   "id": "b5b38f43",
   "metadata": {},
   "outputs": [],
   "source": [
    "# Aggiunta etichette per primo e ultimo punto\n",
    "first_year = df[\"Year\"].iloc[0]\n",
    "first_value = df[\"TotalGross_Billion\"].iloc[0]\n",
    "last_year = df[\"Year\"].iloc[-1]\n",
    "last_value = df[\"TotalGross_Billion\"].iloc[-1]\n",
    "\n",
    "plt.text(first_year, first_value + 0.08, f\"{first_value:.1f}B\", ha=\"center\", va=\"bottom\", \n",
    "         fontsize=9, fontweight='bold',\n",
    "         bbox=dict(boxstyle=\"round,pad=0.3\", facecolor=\"white\", edgecolor=\"#cc0000\", alpha=0.8))\n",
    "plt.text(last_year, last_value + 0.08, f\"{last_value:.1f}B\", ha=\"center\", va=\"bottom\", \n",
    "         fontsize=9, fontweight='bold',\n",
    "         bbox=dict(boxstyle=\"round,pad=0.3\", facecolor=\"white\", edgecolor=\"#cc0000\", alpha=0.8))\n",
    "\n",
    "print(f\"Etichette aggiunte: {first_year} ({first_value:.1f}B) - {last_year} ({last_value:.1f}B)\")"
   ]
  },
  {
   "cell_type": "code",
   "execution_count": null,
   "id": "b3c403b1",
   "metadata": {},
   "outputs": [],
   "source": [
    "# Finalizzazione del grafico\n",
    "# Legenda\n",
    "plt.legend(loc='upper left', frameon=True, fancybox=True, shadow=True, \n",
    "           facecolor='white', edgecolor='#cccccc', framealpha=0.95, \n",
    "           fontsize=10, borderpad=0.8)\n",
    "\n",
    "# Rimozione bordi superiori e destro\n",
    "ax.spines['top'].set_visible(False)\n",
    "ax.spines['right'].set_visible(False)\n",
    "\n",
    "# Configurazione proporzioni\n",
    "plt.subplots_adjust(left=0.11, bottom=0.083, right=0.617, top=0.61, wspace=0.2, hspace=0.2)\n",
    "\n",
    "# Salvataggio\n",
    "output_path = \"box_office_chart.png\"\n",
    "plt.savefig(output_path, dpi=300, bbox_inches='tight', facecolor='white')\n",
    "print(f\"Grafico salvato come: {output_path}\")\n",
    "\n",
    "# Visualizzazione\n",
    "plt.show()"
   ]
  },
  {
   "cell_type": "markdown",
   "id": "658a6bb3",
   "metadata": {},
   "source": [
    "## Analisi dei Risultati\n",
    "\n",
    "### Trend Osservato:\n",
    "- **Crescita costante**: Il box office mondiale mostra una crescita lineare e prevedibile\n",
    "- **Stabilità del mercato**: Il periodo pre-streaming era caratterizzato da un modello di business stabile\n",
    "- **Baseline importante**: Questi dati servono come punto di riferimento per confrontare l'impatto dello streaming\n",
    "\n",
    "### Implicazioni:\n",
    "1. **Mercato maturo**: L'industria cinematografica aveva raggiunto una maturità con crescita organica\n",
    "2. **Modello prevedibile**: Gli investimenti e le previsioni erano basati su trend consolidati\n",
    "3. **Assenza di disruption**: Nessun cambiamento tecnologico significativo aveva ancora impattato il settore\n",
    "\n",
    "### Prossimi Passi:\n",
    "Questo grafico stabilisce il contesto per analizzare come l'avvento dello streaming abbia trasformato questo scenario stabile."
   ]
  }
 ],
 "metadata": {
  "language_info": {
   "name": "python"
  }
 },
 "nbformat": 4,
 "nbformat_minor": 5
}
