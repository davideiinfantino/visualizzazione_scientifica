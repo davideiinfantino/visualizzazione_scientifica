{
 "cells": [
  {
   "cell_type": "markdown",
   "id": "5ce410e9",
   "metadata": {},
   "source": [
    "# G2 - Rilasci Cinematografici (2000-2010)\n",
    "\n",
    "## Analisi della Produzione Cinematografica\n",
    "\n",
    "Questo grafico mostra il numero di film rilasciati annualmente dal 2000 al 2010, fornendo un'analisi della produttività dell'industria cinematografica nel periodo pre-streaming.\n",
    "\n",
    "### Obiettivi:\n",
    "- Visualizzare la produzione cinematografica annuale\n",
    "- Identificare trend nella quantità di contenuti prodotti\n",
    "- Stabilire un baseline per confronti con l'era streaming"
   ]
  },
  {
   "cell_type": "code",
   "execution_count": null,
   "id": "37b73277",
   "metadata": {},
   "outputs": [],
   "source": [
    "# Import delle librerie necessarie\n",
    "import pandas as pd\n",
    "import matplotlib.pyplot as plt\n",
    "import os\n",
    "\n",
    "print(\"Librerie importate con successo!\")"
   ]
  },
  {
   "cell_type": "code",
   "execution_count": null,
   "id": "bcdea6d9",
   "metadata": {},
   "outputs": [],
   "source": [
    "# Caricamento e preparazione dei dati\n",
    "csv_path = \"worldwide_box_office.csv\"\n",
    "df = pd.read_csv(csv_path)\n",
    "\n",
    "print(\"Dataset caricato:\")\n",
    "print(f\"Forma del dataset: {df.shape}\")\n",
    "print(\"\\nColonne disponibili:\")\n",
    "print(df.columns.tolist())\n",
    "df.head()"
   ]
  },
  {
   "cell_type": "code",
   "execution_count": null,
   "id": "83708705",
   "metadata": {},
   "outputs": [],
   "source": [
    "# Conversione dei campi numerici e filtraggio\n",
    "df[\"Year\"] = pd.to_numeric(df[\"Year\"], errors=\"coerce\")\n",
    "df[\"Releases\"] = pd.to_numeric(df[\"Releases\"], errors=\"coerce\")\n",
    "\n",
    "# Filtra i dati dal 2000 al 2010 e rimuove eventuali valori NaN\n",
    "df = df[(df[\"Year\"] >= 2000) & (df[\"Year\"] <= 2010)].dropna()\n",
    "\n",
    "# Ordina per anno\n",
    "df = df.sort_values(\"Year\")\n",
    "\n",
    "print(\"Dati preparati:\")\n",
    "print(f\"Periodo: {df['Year'].min()} - {df['Year'].max()}\")\n",
    "print(f\"Range rilasci: {df['Releases'].min():.0f} - {df['Releases'].max():.0f} film\")\n",
    "print(f\"Media annuale: {df['Releases'].mean():.0f} film\")\n",
    "df[['Year', 'Releases']]"
   ]
  },
  {
   "cell_type": "code",
   "execution_count": null,
   "id": "a87df2d0",
   "metadata": {},
   "outputs": [],
   "source": [
    "# Creazione del grafico a barre\n",
    "plt.figure(figsize=(9, 6), facecolor='white')\n",
    "ax = plt.gca()\n",
    "ax.set_facecolor('white')\n",
    "\n",
    "# Barre principali\n",
    "bars = plt.bar(df[\"Year\"], df[\"Releases\"], \n",
    "               color=\"#cc0000\", alpha=0.8, \n",
    "               edgecolor=\"#990000\", linewidth=2, \n",
    "               label=\"Numero di Uscite\",\n",
    "               width=0.8)\n",
    "\n",
    "# Configurazione assi e griglia\n",
    "plt.xlabel(\"Anno\", fontsize=12)\n",
    "plt.ylabel(\"Numero di Film Rilasciati\", fontsize=12)\n",
    "plt.grid(True, alpha=0.3)\n",
    "\n",
    "print(\"Grafico a barre creato!\")"
   ]
  },
  {
   "cell_type": "code",
   "execution_count": null,
   "id": "88059430",
   "metadata": {},
   "outputs": [],
   "source": [
    "# Finalizzazione del grafico\n",
    "# Rimozione bordi superiori e destro\n",
    "ax.spines['top'].set_visible(False)\n",
    "ax.spines['right'].set_visible(False)\n",
    "\n",
    "# Legenda\n",
    "plt.legend(loc='upper left', frameon=True, fancybox=True, shadow=True, \n",
    "           facecolor='white', edgecolor='#cccccc', framealpha=0.95, \n",
    "           fontsize=10, borderpad=0.8)\n",
    "\n",
    "# Configurazione proporzioni\n",
    "plt.subplots_adjust(left=0.11, bottom=0.083, right=0.617, top=0.61, wspace=0.2, hspace=0.2)\n",
    "\n",
    "# Salvataggio\n",
    "output_path = \"releases_chart.png\"\n",
    "plt.savefig(output_path, dpi=300, bbox_inches='tight', facecolor='white')\n",
    "print(f\"Grafico salvato come: {output_path}\")\n",
    "\n",
    "# Visualizzazione\n",
    "plt.show()"
   ]
  },
  {
   "cell_type": "markdown",
   "id": "bb62280e",
   "metadata": {},
   "source": [
    "## Analisi dei Risultati\n",
    "\n",
    "### Trend Osservato:\n",
    "- **Produzione stabile**: Il numero di rilasci cinematografici mostra una relativa stabilità\n",
    "- **Variazioni annuali**: Piccole fluttuazioni legate a cicli di produzione\n",
    "- **Modello tradizionale**: La produzione seguiva pattern consolidati dell'industria\n",
    "\n",
    "### Insights Chiave:\n",
    "1. **Controllo qualitativo**: Minore pressione sulla quantità, focus sulla qualità\n",
    "2. **Cicli di produzione**: Tempi di sviluppo più lunghi e pianificazione a lungo termine\n",
    "3. **Distribuzione controllata**: Numero limitato di release per gestire la concorrenza\n",
    "\n",
    "### Confronto Futuro:\n",
    "Questi dati serviranno per confrontare con l'esplosione di contenuti nell'era streaming, dove la domanda di contenuti è diventata insaziabile."
   ]
  }
 ],
 "metadata": {
  "language_info": {
   "name": "python"
  }
 },
 "nbformat": 4,
 "nbformat_minor": 5
}
