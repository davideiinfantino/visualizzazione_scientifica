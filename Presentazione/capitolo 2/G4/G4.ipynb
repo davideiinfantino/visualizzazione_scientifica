{
 "cells": [
  {
   "cell_type": "markdown",
   "id": "af8b3f73",
   "metadata": {},
   "source": [
    "# G4 - Crescita Abbonati Netflix (2007-2020)\n",
    "\n",
    "## L'Esplosione dello Streaming\n",
    "\n",
    "Questo grafico documenta la crescita esplosiva degli abbonati Netflix dal 2007 al 2020, rappresentando il simbolo dell'avvento dello streaming e della trasformazione dell'industria dell'intrattenimento.\n",
    "\n",
    "### Obiettivi:\n",
    "- Visualizzare la crescita esponenziale di Netflix\n",
    "- Documentare l'inizio della rivoluzione streaming\n",
    "- Stabilire il punto di partenza della disruption dell'industria"
   ]
  },
  {
   "cell_type": "code",
   "execution_count": null,
   "id": "ffb9c4a6",
   "metadata": {},
   "outputs": [],
   "source": [
    "# Import delle librerie necessarie\n",
    "import pandas as pd\n",
    "import matplotlib.pyplot as plt\n",
    "import os\n",
    "\n",
    "print(\"Librerie importate con successo!\")"
   ]
  },
  {
   "cell_type": "code",
   "execution_count": null,
   "id": "b8d0e6a0",
   "metadata": {},
   "outputs": [],
   "source": [
    "# Caricamento dei dati Netflix\n",
    "csv_path = \"netflix_subscribers_2007_2020.csv\"\n",
    "df = pd.read_csv(csv_path)\n",
    "\n",
    "print(\"Dataset Netflix caricato:\")\n",
    "print(f\"Forma del dataset: {df.shape}\")\n",
    "print(\"\\nColonne disponibili:\")\n",
    "print(df.columns.tolist())\n",
    "df.head()"
   ]
  },
  {
   "cell_type": "code",
   "execution_count": null,
   "id": "5bf8f850",
   "metadata": {},
   "outputs": [],
   "source": [
    "# Preparazione e analisi dei dati\n",
    "df[\"Year\"] = pd.to_numeric(df[\"Year\"], errors=\"coerce\")\n",
    "df[\"NetflixSubscribersMillions\"] = pd.to_numeric(df[\"NetflixSubscribersMillions\"], errors=\"coerce\")\n",
    "\n",
    "# Rimuove eventuali valori NaN\n",
    "df = df.dropna()\n",
    "df = df.sort_values(\"Year\")\n",
    "\n",
    "print(\"Analisi della crescita Netflix:\")\n",
    "print(f\"Periodo: {df['Year'].min()} - {df['Year'].max()}\")\n",
    "print(f\"Abbonati iniziali: {df['NetflixSubscribersMillions'].min():.1f}M\")\n",
    "print(f\"Abbonati finali: {df['NetflixSubscribersMillions'].max():.1f}M\")\n",
    "print(f\"Crescita totale: {((df['NetflixSubscribersMillions'].max() / df['NetflixSubscribersMillions'].min()) - 1) * 100:.0f}%\")\n",
    "\n",
    "# Calcolo tasso di crescita annuale\n",
    "df['Growth_Rate'] = df['NetflixSubscribersMillions'].pct_change() * 100\n",
    "print(f\"\\nTasso di crescita medio annuale: {df['Growth_Rate'].mean():.1f}%\")\n",
    "\n",
    "df[['Year', 'NetflixSubscribersMillions', 'Growth_Rate']]"
   ]
  },
  {
   "cell_type": "code",
   "execution_count": null,
   "id": "c3ec9616",
   "metadata": {},
   "outputs": [],
   "source": [
    "# Creazione del grafico di crescita\n",
    "plt.figure(figsize=(9,6), facecolor='white')\n",
    "ax = plt.gca()\n",
    "ax.set_facecolor('white')\n",
    "\n",
    "# Linea principale con markers\n",
    "plt.plot(df[\"Year\"], df[\"NetflixSubscribersMillions\"], \n",
    "         marker=\"o\", linestyle=\"-\", color=\"#cc0000\", \n",
    "         linewidth=2, markersize=6, label=\"Abbonati Netflix\")\n",
    "\n",
    "# Area riempita per enfatizzare la crescita\n",
    "plt.fill_between(df[\"Year\"], df[\"NetflixSubscribersMillions\"], \n",
    "                 color=\"#cc0000\", alpha=0.3)\n",
    "\n",
    "# Configurazione assi\n",
    "plt.xlabel(\"Anno\", fontsize=12)\n",
    "plt.ylabel(\"Abbonati Netflix (Milioni)\", fontsize=12)\n",
    "plt.grid(True, alpha=0.3)\n",
    "\n",
    "print(\"Grafico base della crescita Netflix creato!\")"
   ]
  },
  {
   "cell_type": "code",
   "execution_count": null,
   "id": "a59e922e",
   "metadata": {},
   "outputs": [],
   "source": [
    "# Aggiunta etichette per punti chiave\n",
    "first_year = df[\"Year\"].iloc[0]\n",
    "first_value = df[\"NetflixSubscribersMillions\"].iloc[0]\n",
    "last_year = df[\"Year\"].iloc[-1]\n",
    "last_value = df[\"NetflixSubscribersMillions\"].iloc[-1]\n",
    "\n",
    "# Etichette inizio e fine\n",
    "plt.text(first_year, first_value + 5, f\"{first_value:.1f}M\", \n",
    "         ha=\"center\", va=\"bottom\", fontsize=9, fontweight='bold',\n",
    "         bbox=dict(boxstyle=\"round,pad=0.3\", facecolor=\"white\", edgecolor=\"#cc0000\", alpha=0.8))\n",
    "plt.text(last_year, last_value + 5, f\"{last_value:.1f}M\", \n",
    "         ha=\"center\", va=\"bottom\", fontsize=9, fontweight='bold',\n",
    "         bbox=dict(boxstyle=\"round,pad=0.3\", facecolor=\"white\", edgecolor=\"#cc0000\", alpha=0.8))\n",
    "\n",
    "print(f\"Etichette aggiunte: {first_year} ({first_value:.1f}M) → {last_year} ({last_value:.1f}M)\")"
   ]
  },
  {
   "cell_type": "code",
   "execution_count": null,
   "id": "2472ed36",
   "metadata": {},
   "outputs": [],
   "source": [
    "# Finalizzazione del grafico\n",
    "# Legenda\n",
    "plt.legend(loc='upper left', frameon=True, fancybox=True, shadow=True, \n",
    "           facecolor='white', edgecolor='#cccccc', framealpha=0.95, \n",
    "           fontsize=10, borderpad=0.8)\n",
    "\n",
    "# Rimozione bordi\n",
    "ax.spines['top'].set_visible(False)\n",
    "ax.spines['right'].set_visible(False)\n",
    "\n",
    "# Proporzioni standardizzate\n",
    "plt.subplots_adjust(left=0.11, bottom=0.083, right=0.617, top=0.61, wspace=0.2, hspace=0.2)\n",
    "\n",
    "# Salvataggio\n",
    "output_path = \"netflix_growth_chart.png\"\n",
    "plt.savefig(output_path, dpi=300, bbox_inches='tight', facecolor='white')\n",
    "print(f\"Grafico salvato come: {output_path}\")\n",
    "\n",
    "# Visualizzazione\n",
    "plt.show()"
   ]
  },
  {
   "cell_type": "markdown",
   "id": "2e5f30cb",
   "metadata": {},
   "source": [
    "## Analisi dei Risultati\n",
    "\n",
    "### Crescita Esplosiva Documentata:\n",
    "- **Crescita esponenziale**: Da pochi milioni a oltre 200 milioni di abbonati\n",
    "- **Accelerazione costante**: Tassi di crescita sostenuti anno dopo anno\n",
    "- **Punto di svolta**: 2010-2015 come periodo di decollo definitivo\n",
    "\n",
    "### Fasi della Crescita:\n",
    "1. **2007-2010**: Fase sperimentale con crescita graduale\n",
    "2. **2011-2015**: Accelerazione e espansione internazionale\n",
    "3. **2016-2020**: Consolidamento come leader globale\n",
    "\n",
    "### Impatti dell'Ecosistema:\n",
    "- **Cambio di paradigma**: Da noleggio fisico a streaming on-demand\n",
    "- **Effetto domino**: Spinta altri attori verso lo streaming\n",
    "- **Pressione sull'industria**: Cinema e TV tradizionale costretti ad adattarsi\n",
    "\n",
    "### Significato Strategico:\n",
    "Questo grafico rappresenta non solo la crescita di un'azienda, ma la visualizzazione di una **rivoluzione industriale** che ha ridefinito come consumiamo contenuti audiovisivi."
   ]
  }
 ],
 "metadata": {
  "language_info": {
   "name": "python"
  }
 },
 "nbformat": 4,
 "nbformat_minor": 5
}
