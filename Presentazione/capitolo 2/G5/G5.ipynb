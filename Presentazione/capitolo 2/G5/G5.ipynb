{
 "cells": [
  {
   "cell_type": "markdown",
   "id": "e5fae0de",
   "metadata": {},
   "source": [
    "# G5 - Penetrazione SVOD Globale (2010-2020)\n",
    "\n",
    "## Diffusione Mondiale dello Streaming\n",
    "\n",
    "Questo grafico mostra la penetrazione dei servizi SVOD (Subscription Video On Demand) in diversi paesi dal 2010 al 2020, documentando come lo streaming sia diventato un fenomeno globale.\n",
    "\n",
    "### Obiettivi:\n",
    "- Visualizzare l'adozione dello streaming per paese\n",
    "- Confrontare i tassi di penetrazione tra mercati diversi\n",
    "- Identificare i leader e i follower nell'adozione SVOD"
   ]
  },
  {
   "cell_type": "code",
   "execution_count": null,
   "id": "ebac2ef4",
   "metadata": {},
   "outputs": [],
   "source": [
    "# Import delle librerie necessarie\n",
    "import pandas as pd\n",
    "import matplotlib.pyplot as plt\n",
    "import os\n",
    "\n",
    "print(\"Librerie importate con successo!\")"
   ]
  },
  {
   "cell_type": "code",
   "execution_count": null,
   "id": "a28ddfff",
   "metadata": {},
   "outputs": [],
   "source": [
    "# Caricamento dei dati SVOD\n",
    "csv_path = \"svod_penetration_world_2010_2020.csv\"\n",
    "df = pd.read_csv(csv_path)\n",
    "\n",
    "print(\"Dataset SVOD caricato:\")\n",
    "print(f\"Forma del dataset: {df.shape}\")\n",
    "print(\"\\nPaesi disponibili:\")\n",
    "print(df['Country'].unique())\n",
    "df.head()"
   ]
  },
  {
   "cell_type": "code",
   "execution_count": null,
   "id": "46ff67d9",
   "metadata": {},
   "outputs": [],
   "source": [
    "# Preparazione e filtraggio dei dati\n",
    "df[\"Year\"] = pd.to_numeric(df[\"Year\"], errors=\"coerce\")\n",
    "df[\"SVOD_Penetration_Percent\"] = pd.to_numeric(df[\"SVOD_Penetration_Percent\"], errors=\"coerce\")\n",
    "\n",
    "# Rimuove eventuali valori NaN\n",
    "df = df.dropna()\n",
    "df = df.sort_values(\"Year\")\n",
    "\n",
    "# Seleziona paesi rappresentativi per chiarezza\n",
    "selected_countries = [\"USA\", \"UK\", \"Germany\", \"France\", \"Italy\", \"China\", \"Japan\"]\n",
    "df_selected = df[df[\"Country\"].isin(selected_countries)]\n",
    "\n",
    "print(\"Analisi penetrazione SVOD:\")\n",
    "print(f\"Periodo: {df['Year'].min()} - {df['Year'].max()}\")\n",
    "print(f\"Paesi selezionati: {len(selected_countries)}\")\n",
    "\n",
    "# Analisi per paese\n",
    "for country in selected_countries:\n",
    "    country_data = df_selected[df_selected['Country'] == country]\n",
    "    if not country_data.empty:\n",
    "        start_pen = country_data['SVOD_Penetration_Percent'].iloc[0]\n",
    "        end_pen = country_data['SVOD_Penetration_Percent'].iloc[-1]\n",
    "        print(f\"{country}: {start_pen:.1f}% → {end_pen:.1f}%\")"
   ]
  },
  {
   "cell_type": "code",
   "execution_count": null,
   "id": "e6f165d3",
   "metadata": {},
   "outputs": [],
   "source": [
    "# Definizione colori per ogni paese\n",
    "colors = {\n",
    "    \"USA\": \"#cc0000\",\n",
    "    \"UK\": \"#0066cc\", \n",
    "    \"Germany\": \"#ff9900\",\n",
    "    \"France\": \"#009900\",\n",
    "    \"Italy\": \"#9900cc\",\n",
    "    \"China\": \"#ff0066\",\n",
    "    \"Japan\": \"#666666\"\n",
    "}\n",
    "\n",
    "# Creazione del grafico multi-paese\n",
    "plt.figure(figsize=(9,6), facecolor='white')\n",
    "ax = plt.gca()\n",
    "ax.set_facecolor('white')\n",
    "\n",
    "# Plot per ogni paese\n",
    "for country in selected_countries:\n",
    "    country_data = df_selected[df_selected['Country'] == country]\n",
    "    if not country_data.empty:\n",
    "        plt.plot(country_data['Year'], country_data['SVOD_Penetration_Percent'],\n",
    "                marker='o', linestyle='-', linewidth=2, markersize=5,\n",
    "                color=colors.get(country, '#000000'), label=country)\n",
    "\n",
    "print(\"Grafico multi-paese creato!\")"
   ]
  },
  {
   "cell_type": "code",
   "execution_count": null,
   "id": "1e3e0c29",
   "metadata": {},
   "outputs": [],
   "source": [
    "# Configurazione del grafico\n",
    "plt.xlabel(\"Anno\", fontsize=12)\n",
    "plt.ylabel(\"Penetrazione SVOD (%)\", fontsize=12)\n",
    "plt.grid(True, alpha=0.3)\n",
    "plt.title(\"Penetrazione SVOD per Paese (2010-2020)\", fontsize=14, fontweight='bold')\n",
    "\n",
    "# Legenda ottimizzata\n",
    "plt.legend(loc='upper left', frameon=True, fancybox=True, shadow=True, \n",
    "           facecolor='white', edgecolor='#cccccc', framealpha=0.95, \n",
    "           fontsize=9, borderpad=0.8, ncol=2)\n",
    "\n",
    "# Rimozione bordi\n",
    "ax.spines['top'].set_visible(False)\n",
    "ax.spines['right'].set_visible(False)\n",
    "\n",
    "print(\"Configurazione grafico completata!\")"
   ]
  },
  {
   "cell_type": "code",
   "execution_count": null,
   "id": "505ea446",
   "metadata": {},
   "outputs": [],
   "source": [
    "# Finalizzazione e salvataggio\n",
    "# Proporzioni standardizzate\n",
    "plt.subplots_adjust(left=0.11, bottom=0.083, right=0.617, top=0.61, wspace=0.2, hspace=0.2)\n",
    "\n",
    "# Salvataggio\n",
    "output_path = \"svod_penetration_chart.png\"\n",
    "plt.savefig(output_path, dpi=300, bbox_inches='tight', facecolor='white')\n",
    "print(f\"Grafico salvato come: {output_path}\")\n",
    "\n",
    "# Visualizzazione\n",
    "plt.show()"
   ]
  },
  {
   "cell_type": "markdown",
   "id": "0173375e",
   "metadata": {},
   "source": [
    "## Analisi dei Risultati\n",
    "\n",
    "### Pattern di Adozione Globale:\n",
    "- **USA come leader**: Penetrazione più rapida e maggiore\n",
    "- **Mercati maturi europei**: UK, Germania, Francia con crescita sostenuta\n",
    "- **Mercati emergenti**: Crescita più graduale ma significativa\n",
    "\n",
    "### Fasi di Penetrazione:\n",
    "1. **2010-2013**: Fase pioniera con adozione limitata\n",
    "2. **2014-2017**: Accelerazione e mainstream adoption\n",
    "3. **2018-2020**: Maturazione e saturazione in alcuni mercati\n",
    "\n",
    "### Fattori Differenzianti:\n",
    "- **Infrastruttura internet**: Velocità di connessione come prerequisito\n",
    "- **Cultura digitale**: Propensione all'adozione di nuove tecnologie\n",
    "- **Regolamentazione locale**: Politiche governative e content licensing\n",
    "- **Potere d'acquisto**: Capacità di sostenere abbonamenti multipli\n",
    "\n",
    "### Implicazioni Strategiche:\n",
    "- **Mercato globale**: Lo streaming non è più fenomeno locale\n",
    "- **Velocità di adozione**: Curve di crescita sempre più ripide\n",
    "- **Competizione intensificata**: Necessità di presenza globale per i provider"
   ]
  }
 ],
 "metadata": {
  "language_info": {
   "name": "python"
  }
 },
 "nbformat": 4,
 "nbformat_minor": 5
}
